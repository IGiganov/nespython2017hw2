{
 "cells": [
  {
   "cell_type": "code",
   "execution_count": 285,
   "metadata": {
    "collapsed": true
   },
   "outputs": [],
   "source": [
    "def sumThreefive (n):\n",
    "    k=0\n",
    "    if type(n)==int:\n",
    "        n=n\n",
    "    elif type(n)==float:\n",
    "        n=int(n)+1\n",
    "    else:\n",
    "        return \"Must be integer or float\"\n",
    "    if n<4:\n",
    "        return k\n",
    "    for i in range(n):\n",
    "        if i%3==0 or i%5==0:\n",
    "            k=k+i\n",
    "    return k      "
   ]
  },
  {
   "cell_type": "code",
   "execution_count": 286,
   "metadata": {},
   "outputs": [
    {
     "data": {
      "text/plain": [
       "2318"
      ]
     },
     "execution_count": 286,
     "metadata": {},
     "output_type": "execute_result"
    }
   ],
   "source": [
    "sumThreefive (100)"
   ]
  },
  {
   "cell_type": "code",
   "execution_count": 287,
   "metadata": {},
   "outputs": [
    {
     "data": {
      "text/plain": [
       "23331668"
      ]
     },
     "execution_count": 287,
     "metadata": {},
     "output_type": "execute_result"
    }
   ],
   "source": [
    "sumThreefive (10000)"
   ]
  },
  {
   "cell_type": "code",
   "execution_count": 288,
   "metadata": {
    "collapsed": true
   },
   "outputs": [],
   "source": [
    "dic = {0: 1, 1: 1}\n",
    "\n",
    "def fibo(n):\n",
    "    if n in dic:\n",
    "        return dic[n]\n",
    "    dic[n] = fibo(n - 1) + fibo(n - 2)\n",
    "    return dic[n]"
   ]
  },
  {
   "cell_type": "code",
   "execution_count": 283,
   "metadata": {
    "scrolled": false
   },
   "outputs": [
    {
     "data": {
      "text/plain": [
       "89"
      ]
     },
     "execution_count": 283,
     "metadata": {},
     "output_type": "execute_result"
    }
   ],
   "source": [
    "fibo(10) "
   ]
  },
  {
   "cell_type": "code",
   "execution_count": 284,
   "metadata": {},
   "outputs": [
    {
     "data": {
      "text/plain": [
       "453973694165307953197296969697410619233826"
      ]
     },
     "execution_count": 284,
     "metadata": {},
     "output_type": "execute_result"
    }
   ],
   "source": [
    "fibo(200)"
   ]
  },
  {
   "cell_type": "code",
   "execution_count": 290,
   "metadata": {
    "collapsed": true,
    "scrolled": true
   },
   "outputs": [],
   "source": [
    "import pandas\n",
    "a = \"words-list-russian.txt\"\n",
    "def amagrams(name):    \n",
    "    list1 = (pandas.read_table(name, header = None))[0].tolist()\n",
    "    list2=[]\n",
    "    output=[]\n",
    "#create a list with sorted sets of letters\n",
    "    for i in range(len(list1)):\n",
    "        k=sorted(list(list1[i]))\n",
    "        list2.append(''.join(k))\n",
    "#Create a dictionary in which keys are sorted sets of letters, values are lists of all words with corresponding sets\n",
    "    dict1={}\n",
    "    for i in range(1,len(list1)):\n",
    "        if list2[i] not in dict1.keys():\n",
    "            dict1[list2[i]]=[list1[i],]\n",
    "        else:\n",
    "            dict1[list2[i]].append(list1[i])\n",
    "#Joine lists with lengths greater than 3 in strings using a comma as a separator. \n",
    "#Print strings and save them in output list.           \n",
    "    for i in dict1.keys():\n",
    "        if len(dict1[i])>3:\n",
    "            k=(', '.join(dict1[i]))\n",
    "            output.append(k)\n",
    "            print(k)\n"
   ]
  },
  {
   "cell_type": "code",
   "execution_count": 291,
   "metadata": {},
   "outputs": [
    {
     "name": "stdout",
     "output_type": "stream",
     "text": [
      "калан, канал, ланка, накал\n",
      "аборт, обрат, табор, торба\n",
      "корт, крот, торк, трок\n",
      "автор, втора, отвар, рвота, тавро, товар\n",
      "рост, сорт, торс, трос\n",
      "секта, сетка, стека, тесак\n",
      "арак, арка, кара, рака\n"
     ]
    }
   ],
   "source": [
    "amagrams(\"words-list-russian.txt\") "
   ]
  },
  {
   "cell_type": "code",
   "execution_count": 292,
   "metadata": {
    "collapsed": true,
    "scrolled": true
   },
   "outputs": [],
   "source": [
    "import pandas\n",
    "a = \"words-list-russian.txt\"\n",
    "#len(set(a))==len(a)\n",
    "b='лекарство'\n",
    "def typesetter (name,target):\n",
    "    list1 = (pandas.read_table(name, header = None))[0].tolist()\n",
    "    output=[]\n",
    "    for i in list1:\n",
    "        if (len(set(i)-set(target))==0) and (len(set(i))==len(i)):\n",
    "            output.append(i)\n",
    "            print(i)\n",
    "    print(\"Удалось найти: %s\" % len(output))"
   ]
  },
  {
   "cell_type": "code",
   "execution_count": 293,
   "metadata": {},
   "outputs": [
    {
     "name": "stdout",
     "output_type": "stream",
     "text": [
      "автол\n",
      "автор\n",
      "акр\n",
      "ар\n",
      "арест\n",
      "арк\n",
      "аскер\n",
      "ваер\n",
      "валет\n",
      "вар\n",
      "век\n",
      "веко\n",
      "вектор\n",
      "вера\n",
      "верк\n",
      "верстак\n",
      "вес\n",
      "весло\n",
      "вест\n",
      "ветка\n",
      "ветла\n",
      "влас\n",
      "вокал\n",
      "вол\n",
      "вор\n",
      "ворс\n",
      "воск\n",
      "втора\n",
      "ер\n",
      "кал\n",
      "карел\n",
      "карст\n",
      "карт\n",
      "картвел\n",
      "кастор\n",
      "кат\n",
      "катер\n",
      "квас\n",
      "квестор\n",
      "квота\n",
      "кларет\n",
      "клот\n",
      "ков\n",
      "кол\n",
      "кола\n",
      "колет\n",
      "кора\n",
      "корвет\n",
      "корсет\n",
      "корт\n",
      "костра\n",
      "кот\n",
      "креол\n",
      "кресло\n",
      "крест\n",
      "кроат\n",
      "кров\n",
      "крот\n",
      "лавр\n",
      "лар\n",
      "латекс\n",
      "левкас\n",
      "лек\n",
      "лектор\n",
      "лерка\n",
      "лес\n",
      "леска\n",
      "лестовка\n",
      "лето\n",
      "леток\n",
      "лов\n",
      "лоск\n",
      "овал\n",
      "окрас\n",
      "орс\n",
      "орт\n",
      "оса\n",
      "осек\n",
      "оскал\n",
      "ост\n",
      "отвал\n",
      "отвар\n",
      "отвес\n",
      "отсев\n",
      "отсек\n",
      "рвота\n",
      "река\n",
      "рекостав\n",
      "ров\n",
      "рол\n",
      "роса\n",
      "рост\n",
      "рота\n",
      "сверка\n",
      "сверло\n",
      "сев\n",
      "севр\n",
      "секатор\n",
      "секта\n",
      "село\n",
      "сера\n",
      "серв\n",
      "сет\n",
      "сетка\n",
      "скало\n",
      "скатол\n",
      "сквер\n",
      "склера\n",
      "скол\n",
      "скот\n",
      "словак\n",
      "сова\n",
      "совет\n",
      "сок\n",
      "солевар\n",
      "солка\n",
      "сор\n",
      "сорт\n",
      "срок\n",
      "старое\n",
      "створка\n",
      "стек\n",
      "стека\n",
      "стекло\n",
      "стекловар\n",
      "стела\n",
      "сток\n",
      "стокер\n",
      "стрела\n",
      "стрелок\n",
      "тавр\n",
      "тавро\n",
      "тал\n",
      "талес\n",
      "тело\n",
      "тесак\n",
      "тесло\n",
      "товар\n",
      "тол\n",
      "торк\n",
      "торс\n",
      "трак\n",
      "трал\n",
      "трек\n",
      "треск\n",
      "трок\n",
      "трос\n",
      "Удалось найти: 147\n"
     ]
    }
   ],
   "source": [
    "typesetter(\"words-list-russian.txt\",'лекарство')"
   ]
  },
  {
   "cell_type": "code",
   "execution_count": 296,
   "metadata": {
    "collapsed": true
   },
   "outputs": [],
   "source": [
    "import random\n",
    "def otgadai():\n",
    "    name = \"words-list-russian.txt\"\n",
    "    list1 = (pandas.read_table(name, header = None))[0].tolist()\n",
    "#create a list of all words with five letters, each of which is unique\n",
    "    list2=[]\n",
    "    for i in range(len(list1)):\n",
    "        if len(list1[i])==5 and len(set(list1[i]))==5:\n",
    "            list2.append(list1[i])\n",
    "#chose random word\n",
    "    i=random.randint(0,len(list2))\n",
    "    guess=list2[i]\n",
    "    print(\"подскака: загаданное слово - \", guess)\n",
    "    fl=True\n",
    "    k=0\n",
    "    while fl==True:\n",
    "        word=str(input('Введите слово из 5 букв: '))\n",
    "        if (word not in list1) or len(word)!=5:\n",
    "            print('Не знаю такого слова или <> 5-ти букв')\n",
    "            continue\n",
    "        else:\n",
    "#add an attempt, check the match and calculate the amount of similar letters with repetitions\n",
    "            k=k+1\n",
    "            sum=0\n",
    "            for i in range(len(guess)):\n",
    "                for j in range(len(word)):\n",
    "                    if word[j]==guess[i]:\n",
    "                        sum=sum+1\n",
    "            if sum==len(word):\n",
    "                    print(\"!\")\n",
    "                    print(\"угадали с попытки номер %s\" % k)\n",
    "                    fl=False\n",
    "            else:\n",
    "                print(sum)"
   ]
  },
  {
   "cell_type": "code",
   "execution_count": 295,
   "metadata": {},
   "outputs": [
    {
     "name": "stdout",
     "output_type": "stream",
     "text": [
      "подскака: загаданное слово -  чужое\n",
      "Введите слово из 5 букв: хомяк\n",
      "1\n",
      "Введите слово из 5 букв: чужое\n",
      "!\n",
      "угадали с попытки номер 2\n"
     ]
    }
   ],
   "source": [
    "otgadai()"
   ]
  },
  {
   "cell_type": "code",
   "execution_count": 274,
   "metadata": {
    "collapsed": true,
    "scrolled": true
   },
   "outputs": [],
   "source": [
    "def otgadai2():\n",
    "    name = \"words-list-russian.txt\"\n",
    "    list1 = (pandas.read_table(name, header = None))[0].tolist()\n",
    "#create a list of all words with five letters, each of which is unique\n",
    "    list2=[]\n",
    "    for i in list1:\n",
    "        if len(i)==5 and len(set(i))==5:\n",
    "            list2.append(i)   \n",
    "    fl=True\n",
    "    k=0\n",
    "    while fl==True:\n",
    "        target=str(input('Введите слово: '))\n",
    "        if target not in list2:\n",
    "            print('Слово должно быть из 5 разных букв')\n",
    "            continue\n",
    "        else:\n",
    "            for word in list1:\n",
    "                if len(word)!=5:\n",
    "                    continue\n",
    "                else:\n",
    "                    sum=0\n",
    "                    k=k+1\n",
    "                    print(word)\n",
    "                    for i in range(len(target)):\n",
    "                        for j in range(len(word)):\n",
    "                            if word[j]==target[i]:\n",
    "                                sum=sum+1\n",
    "                    if word==target:\n",
    "                        print(\"!\")\n",
    "                        print(\"Я угадала с попытки номер\",k)\n",
    "                        fl=False\n",
    "                        break\n",
    "                    else:\n",
    "                        print(sum)"
   ]
  },
  {
   "cell_type": "code",
   "execution_count": 275,
   "metadata": {
    "scrolled": false
   },
   "outputs": [
    {
     "name": "stdout",
     "output_type": "stream",
     "text": [
      "Введите слово: шахта\n",
      "Слово должно быть из 5 разных букв\n",
      "Введите слово: аббат\n",
      "Слово должно быть из 5 разных букв\n",
      "Введите слово: абвер\n",
      "абака\n",
      "4\n",
      "аббат\n",
      "4\n",
      "абвер\n",
      "!\n",
      "Я угадала с попытки номер 3\n"
     ]
    }
   ],
   "source": [
    "otgadai2() "
   ]
  },
  {
   "cell_type": "code",
   "execution_count": 179,
   "metadata": {
    "collapsed": true
   },
   "outputs": [],
   "source": [
    "import re\n",
    "import urllib.request\n",
    "from bs4 import BeautifulSoup\n",
    "def PRGDP():\n",
    "    url = 'http://www.belstat.gov.by/ofitsialnaya-statistika/makroekonomika-i-okruzhayushchaya-sreda/natsionalnye-scheta/godovye-dannye_11/proizvodstvo-valovogo-vnutrennego-produkta/'\n",
    "    data=urllib.request.urlopen(url).read()\n",
    "    soup = BeautifulSoup(data, 'html.parser')\n",
    "    output=[]\n",
    "    i=0\n",
    "    for tr in soup.find_all('tr'):\n",
    "        i=i+1\n",
    "        rows=tr.text.split('\\n\\n\\n\\n\\t\\t\\t\\t')\n",
    "        for i in range(len(rows)):\n",
    "            rows[i]=rows[i].strip()\n",
    "            rows[i]=rows[i].replace('\\n','')\n",
    "            rows[i]=rows[i].replace('\\t','')\n",
    "            if rows[i][0:1].isdigit():\n",
    "                    rows[i]=rows[i].replace('\\xa0','')\n",
    "                    rows[i]=rows[i].replace(' ','')\n",
    "                    rows[i]=rows[i].replace(',','.')\n",
    "        output.append(rows)\n",
    "    for i in range(len(output)):\n",
    "        output[i]='\\t'.join(output[i])\n",
    "        print(output[i]) "
   ]
  },
  {
   "cell_type": "code",
   "execution_count": 180,
   "metadata": {
    "scrolled": true
   },
   "outputs": [
    {
     "name": "stdout",
     "output_type": "stream",
     "text": [
      "\t2009\t2010\t2011\t2012\t2013\t2014\t2015\t2016\n",
      "Валовой внутренний продукт\t\t\t\t\t\t\t\t\n",
      "в текущих ценах, млрд. руб. (2016 год – млн. руб.)\t142091\t170466\t307245\t547617\t670688\t805793\t899098\t94949\n",
      "в сопоставимых ценах, в процентах к предыдущему году\tx\t107.7\t105.5\t101.7\t101.0\t101.7\t96.2\t97.5\n",
      "Валовой внутренний продукт на душу населения, тыс. руб. (2016 год – рублей)\t14946\t17962\t32433\t57860\t70852\t85048\t94745\t9993\n"
     ]
    }
   ],
   "source": [
    "PRGDP()"
   ]
  }
 ],
 "metadata": {
  "anaconda-cloud": {},
  "kernelspec": {
   "display_name": "Python [conda root]",
   "language": "python",
   "name": "conda-root-py"
  },
  "language_info": {
   "codemirror_mode": {
    "name": "ipython",
    "version": 3
   },
   "file_extension": ".py",
   "mimetype": "text/x-python",
   "name": "python",
   "nbconvert_exporter": "python",
   "pygments_lexer": "ipython3",
   "version": "3.5.3"
  }
 },
 "nbformat": 4,
 "nbformat_minor": 2
}
